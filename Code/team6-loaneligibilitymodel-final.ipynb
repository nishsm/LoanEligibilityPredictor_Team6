{
 "cells": [
  {
   "cell_type": "code",
   "execution_count": 1,
   "id": "9f3af0f0",
   "metadata": {
    "_cell_guid": "b1076dfc-b9ad-4769-8c92-a6c4dae69d19",
    "_uuid": "8f2839f25d086af736a60e9eeb907d3b93b6e0e5",
    "execution": {
     "iopub.execute_input": "2021-12-07T10:04:59.553640Z",
     "iopub.status.busy": "2021-12-07T10:04:59.551847Z",
     "iopub.status.idle": "2021-12-07T10:05:00.658540Z",
     "shell.execute_reply": "2021-12-07T10:05:00.657772Z",
     "shell.execute_reply.started": "2021-12-07T10:04:33.325702Z"
    },
    "papermill": {
     "duration": 1.130711,
     "end_time": "2021-12-07T10:05:00.658740",
     "exception": false,
     "start_time": "2021-12-07T10:04:59.528029",
     "status": "completed"
    },
    "tags": []
   },
   "outputs": [],
   "source": [
    "import numpy as np \n",
    "import pandas as pd\n",
    "import seaborn as sns \n",
    "import matplotlib.pyplot as plt\n",
    "import warnings\n",
    "warnings.filterwarnings(\"ignore\")\n",
    "\n",
    "data=pd.read_csv(\"/kaggle/input/loan-eligible-dataset/loan-train.csv\")\n",
    "df_train=data.copy()\n",
    "\n"
   ]
  },
  {
   "cell_type": "code",
   "execution_count": 2,
   "id": "e17cf0f4",
   "metadata": {
    "execution": {
     "iopub.execute_input": "2021-12-07T10:05:00.698998Z",
     "iopub.status.busy": "2021-12-07T10:05:00.698052Z",
     "iopub.status.idle": "2021-12-07T10:05:00.706985Z",
     "shell.execute_reply": "2021-12-07T10:05:00.706287Z",
     "shell.execute_reply.started": "2021-12-07T10:04:33.340504Z"
    },
    "papermill": {
     "duration": 0.029681,
     "end_time": "2021-12-07T10:05:00.707161",
     "exception": false,
     "start_time": "2021-12-07T10:05:00.677480",
     "status": "completed"
    },
    "tags": []
   },
   "outputs": [
    {
     "data": {
      "text/plain": [
       "(614, 13)"
      ]
     },
     "execution_count": 2,
     "metadata": {},
     "output_type": "execute_result"
    }
   ],
   "source": [
    "# Size Of the Data \n",
    "df_train.shape\n"
   ]
  },
  {
   "cell_type": "code",
   "execution_count": 3,
   "id": "8b7503c5",
   "metadata": {
    "execution": {
     "iopub.execute_input": "2021-12-07T10:05:00.749141Z",
     "iopub.status.busy": "2021-12-07T10:05:00.748387Z",
     "iopub.status.idle": "2021-12-07T10:05:00.756989Z",
     "shell.execute_reply": "2021-12-07T10:05:00.757534Z",
     "shell.execute_reply.started": "2021-12-07T10:04:33.348472Z"
    },
    "papermill": {
     "duration": 0.031743,
     "end_time": "2021-12-07T10:05:00.757749",
     "exception": false,
     "start_time": "2021-12-07T10:05:00.726006",
     "status": "completed"
    },
    "tags": []
   },
   "outputs": [
    {
     "data": {
      "text/plain": [
       "True"
      ]
     },
     "execution_count": 3,
     "metadata": {},
     "output_type": "execute_result"
    }
   ],
   "source": [
    "df_train.isnull().values.any()"
   ]
  },
  {
   "cell_type": "code",
   "execution_count": 4,
   "id": "ceb294af",
   "metadata": {
    "execution": {
     "iopub.execute_input": "2021-12-07T10:05:00.800729Z",
     "iopub.status.busy": "2021-12-07T10:05:00.799980Z",
     "iopub.status.idle": "2021-12-07T10:05:00.809788Z",
     "shell.execute_reply": "2021-12-07T10:05:00.810390Z",
     "shell.execute_reply.started": "2021-12-07T10:04:33.362243Z"
    },
    "papermill": {
     "duration": 0.032556,
     "end_time": "2021-12-07T10:05:00.810609",
     "exception": false,
     "start_time": "2021-12-07T10:05:00.778053",
     "status": "completed"
    },
    "tags": []
   },
   "outputs": [
    {
     "data": {
      "text/plain": [
       "Loan_ID               0\n",
       "Gender               13\n",
       "Married               3\n",
       "Dependents           15\n",
       "Education             0\n",
       "Self_Employed        32\n",
       "ApplicantIncome       0\n",
       "CoapplicantIncome     0\n",
       "LoanAmount           22\n",
       "Loan_Amount_Term     14\n",
       "Credit_History       50\n",
       "Property_Area         0\n",
       "Loan_Status           0\n",
       "dtype: int64"
      ]
     },
     "execution_count": 4,
     "metadata": {},
     "output_type": "execute_result"
    }
   ],
   "source": [
    "df_train.isnull().sum()\n"
   ]
  },
  {
   "cell_type": "code",
   "execution_count": 5,
   "id": "59dad633",
   "metadata": {
    "execution": {
     "iopub.execute_input": "2021-12-07T10:05:00.853248Z",
     "iopub.status.busy": "2021-12-07T10:05:00.852499Z",
     "iopub.status.idle": "2021-12-07T10:05:00.877589Z",
     "shell.execute_reply": "2021-12-07T10:05:00.878386Z",
     "shell.execute_reply.started": "2021-12-07T10:04:33.379204Z"
    },
    "papermill": {
     "duration": 0.04897,
     "end_time": "2021-12-07T10:05:00.878675",
     "exception": false,
     "start_time": "2021-12-07T10:05:00.829705",
     "status": "completed"
    },
    "tags": []
   },
   "outputs": [
    {
     "data": {
      "text/html": [
       "<div>\n",
       "<style scoped>\n",
       "    .dataframe tbody tr th:only-of-type {\n",
       "        vertical-align: middle;\n",
       "    }\n",
       "\n",
       "    .dataframe tbody tr th {\n",
       "        vertical-align: top;\n",
       "    }\n",
       "\n",
       "    .dataframe thead th {\n",
       "        text-align: right;\n",
       "    }\n",
       "</style>\n",
       "<table border=\"1\" class=\"dataframe\">\n",
       "  <thead>\n",
       "    <tr style=\"text-align: right;\">\n",
       "      <th></th>\n",
       "      <th>Total</th>\n",
       "      <th>Percent</th>\n",
       "    </tr>\n",
       "  </thead>\n",
       "  <tbody>\n",
       "    <tr>\n",
       "      <th>Credit_History</th>\n",
       "      <td>50</td>\n",
       "      <td>8.143322</td>\n",
       "    </tr>\n",
       "    <tr>\n",
       "      <th>Self_Employed</th>\n",
       "      <td>32</td>\n",
       "      <td>5.211726</td>\n",
       "    </tr>\n",
       "    <tr>\n",
       "      <th>LoanAmount</th>\n",
       "      <td>22</td>\n",
       "      <td>3.583062</td>\n",
       "    </tr>\n",
       "    <tr>\n",
       "      <th>Dependents</th>\n",
       "      <td>15</td>\n",
       "      <td>2.442997</td>\n",
       "    </tr>\n",
       "    <tr>\n",
       "      <th>Loan_Amount_Term</th>\n",
       "      <td>14</td>\n",
       "      <td>2.280130</td>\n",
       "    </tr>\n",
       "    <tr>\n",
       "      <th>Gender</th>\n",
       "      <td>13</td>\n",
       "      <td>2.117264</td>\n",
       "    </tr>\n",
       "    <tr>\n",
       "      <th>Married</th>\n",
       "      <td>3</td>\n",
       "      <td>0.488599</td>\n",
       "    </tr>\n",
       "    <tr>\n",
       "      <th>Loan_ID</th>\n",
       "      <td>0</td>\n",
       "      <td>0.000000</td>\n",
       "    </tr>\n",
       "    <tr>\n",
       "      <th>Education</th>\n",
       "      <td>0</td>\n",
       "      <td>0.000000</td>\n",
       "    </tr>\n",
       "    <tr>\n",
       "      <th>ApplicantIncome</th>\n",
       "      <td>0</td>\n",
       "      <td>0.000000</td>\n",
       "    </tr>\n",
       "    <tr>\n",
       "      <th>CoapplicantIncome</th>\n",
       "      <td>0</td>\n",
       "      <td>0.000000</td>\n",
       "    </tr>\n",
       "    <tr>\n",
       "      <th>Property_Area</th>\n",
       "      <td>0</td>\n",
       "      <td>0.000000</td>\n",
       "    </tr>\n",
       "    <tr>\n",
       "      <th>Loan_Status</th>\n",
       "      <td>0</td>\n",
       "      <td>0.000000</td>\n",
       "    </tr>\n",
       "  </tbody>\n",
       "</table>\n",
       "</div>"
      ],
      "text/plain": [
       "                   Total   Percent\n",
       "Credit_History        50  8.143322\n",
       "Self_Employed         32  5.211726\n",
       "LoanAmount            22  3.583062\n",
       "Dependents            15  2.442997\n",
       "Loan_Amount_Term      14  2.280130\n",
       "Gender                13  2.117264\n",
       "Married                3  0.488599\n",
       "Loan_ID                0  0.000000\n",
       "Education              0  0.000000\n",
       "ApplicantIncome        0  0.000000\n",
       "CoapplicantIncome      0  0.000000\n",
       "Property_Area          0  0.000000\n",
       "Loan_Status            0  0.000000"
      ]
     },
     "execution_count": 5,
     "metadata": {},
     "output_type": "execute_result"
    }
   ],
   "source": [
    "def missing_data(data):\n",
    "    total = data.isnull().sum().sort_values(ascending = False)\n",
    "    percent = (data.isnull().sum()/data.isnull().count()*100).sort_values(ascending = False)\n",
    "    return pd.concat([total, percent], axis=1, keys=['Total', 'Percent'])\n",
    "missing_data(df_train)\n",
    "\n"
   ]
  },
  {
   "cell_type": "code",
   "execution_count": 6,
   "id": "6bc08b60",
   "metadata": {
    "execution": {
     "iopub.execute_input": "2021-12-07T10:05:00.921583Z",
     "iopub.status.busy": "2021-12-07T10:05:00.920905Z",
     "iopub.status.idle": "2021-12-07T10:05:00.944042Z",
     "shell.execute_reply": "2021-12-07T10:05:00.944619Z",
     "shell.execute_reply.started": "2021-12-07T10:04:33.401622Z"
    },
    "papermill": {
     "duration": 0.046065,
     "end_time": "2021-12-07T10:05:00.944808",
     "exception": false,
     "start_time": "2021-12-07T10:05:00.898743",
     "status": "completed"
    },
    "tags": []
   },
   "outputs": [
    {
     "data": {
      "text/html": [
       "<div>\n",
       "<style scoped>\n",
       "    .dataframe tbody tr th:only-of-type {\n",
       "        vertical-align: middle;\n",
       "    }\n",
       "\n",
       "    .dataframe tbody tr th {\n",
       "        vertical-align: top;\n",
       "    }\n",
       "\n",
       "    .dataframe thead th {\n",
       "        text-align: right;\n",
       "    }\n",
       "</style>\n",
       "<table border=\"1\" class=\"dataframe\">\n",
       "  <thead>\n",
       "    <tr style=\"text-align: right;\">\n",
       "      <th></th>\n",
       "      <th>Loan_ID</th>\n",
       "      <th>Gender</th>\n",
       "      <th>Married</th>\n",
       "      <th>Dependents</th>\n",
       "      <th>Education</th>\n",
       "      <th>Self_Employed</th>\n",
       "      <th>ApplicantIncome</th>\n",
       "      <th>CoapplicantIncome</th>\n",
       "      <th>LoanAmount</th>\n",
       "      <th>Loan_Amount_Term</th>\n",
       "      <th>Credit_History</th>\n",
       "      <th>Property_Area</th>\n",
       "      <th>Loan_Status</th>\n",
       "    </tr>\n",
       "  </thead>\n",
       "  <tbody>\n",
       "  </tbody>\n",
       "</table>\n",
       "</div>"
      ],
      "text/plain": [
       "Empty DataFrame\n",
       "Columns: [Loan_ID, Gender, Married, Dependents, Education, Self_Employed, ApplicantIncome, CoapplicantIncome, LoanAmount, Loan_Amount_Term, Credit_History, Property_Area, Loan_Status]\n",
       "Index: []"
      ]
     },
     "execution_count": 6,
     "metadata": {},
     "output_type": "execute_result"
    }
   ],
   "source": [
    "# Duplicated data\n",
    "df_train[df_train.duplicated() == True]\n"
   ]
  },
  {
   "cell_type": "code",
   "execution_count": 7,
   "id": "ed21abf3",
   "metadata": {
    "execution": {
     "iopub.execute_input": "2021-12-07T10:05:00.988294Z",
     "iopub.status.busy": "2021-12-07T10:05:00.987651Z",
     "iopub.status.idle": "2021-12-07T10:05:00.995357Z",
     "shell.execute_reply": "2021-12-07T10:05:00.995985Z",
     "shell.execute_reply.started": "2021-12-07T10:04:33.417489Z"
    },
    "papermill": {
     "duration": 0.031311,
     "end_time": "2021-12-07T10:05:00.996186",
     "exception": false,
     "start_time": "2021-12-07T10:05:00.964875",
     "status": "completed"
    },
    "tags": []
   },
   "outputs": [
    {
     "data": {
      "text/plain": [
       "Loan_ID               0\n",
       "Gender               13\n",
       "Married               3\n",
       "Dependents           15\n",
       "Education             0\n",
       "Self_Employed        32\n",
       "ApplicantIncome       0\n",
       "CoapplicantIncome     0\n",
       "LoanAmount           22\n",
       "Loan_Amount_Term     14\n",
       "Credit_History       50\n",
       "Property_Area         0\n",
       "Loan_Status           0\n",
       "dtype: int64"
      ]
     },
     "execution_count": 7,
     "metadata": {},
     "output_type": "execute_result"
    }
   ],
   "source": [
    "\n",
    "#check for null\n",
    "df_train.isnull().sum()\n"
   ]
  },
  {
   "cell_type": "code",
   "execution_count": 8,
   "id": "e208a433",
   "metadata": {
    "execution": {
     "iopub.execute_input": "2021-12-07T10:05:01.040813Z",
     "iopub.status.busy": "2021-12-07T10:05:01.040098Z",
     "iopub.status.idle": "2021-12-07T10:05:01.061023Z",
     "shell.execute_reply": "2021-12-07T10:05:01.061720Z",
     "shell.execute_reply.started": "2021-12-07T10:04:33.427498Z"
    },
    "papermill": {
     "duration": 0.04525,
     "end_time": "2021-12-07T10:05:01.061923",
     "exception": false,
     "start_time": "2021-12-07T10:05:01.016673",
     "status": "completed"
    },
    "tags": []
   },
   "outputs": [
    {
     "data": {
      "text/html": [
       "<div>\n",
       "<style scoped>\n",
       "    .dataframe tbody tr th:only-of-type {\n",
       "        vertical-align: middle;\n",
       "    }\n",
       "\n",
       "    .dataframe tbody tr th {\n",
       "        vertical-align: top;\n",
       "    }\n",
       "\n",
       "    .dataframe thead th {\n",
       "        text-align: right;\n",
       "    }\n",
       "</style>\n",
       "<table border=\"1\" class=\"dataframe\">\n",
       "  <thead>\n",
       "    <tr style=\"text-align: right;\">\n",
       "      <th></th>\n",
       "      <th>Gender</th>\n",
       "      <th>Married</th>\n",
       "      <th>Dependents</th>\n",
       "      <th>Education</th>\n",
       "      <th>Self_Employed</th>\n",
       "      <th>ApplicantIncome</th>\n",
       "      <th>CoapplicantIncome</th>\n",
       "      <th>LoanAmount</th>\n",
       "      <th>Loan_Amount_Term</th>\n",
       "      <th>Credit_History</th>\n",
       "      <th>Property_Area</th>\n",
       "      <th>Loan_Status</th>\n",
       "    </tr>\n",
       "  </thead>\n",
       "  <tbody>\n",
       "    <tr>\n",
       "      <th>1</th>\n",
       "      <td>Male</td>\n",
       "      <td>Yes</td>\n",
       "      <td>1</td>\n",
       "      <td>Graduate</td>\n",
       "      <td>No</td>\n",
       "      <td>4583</td>\n",
       "      <td>1508.0</td>\n",
       "      <td>128.0</td>\n",
       "      <td>360.0</td>\n",
       "      <td>1.0</td>\n",
       "      <td>Rural</td>\n",
       "      <td>N</td>\n",
       "    </tr>\n",
       "    <tr>\n",
       "      <th>2</th>\n",
       "      <td>Male</td>\n",
       "      <td>Yes</td>\n",
       "      <td>0</td>\n",
       "      <td>Graduate</td>\n",
       "      <td>Yes</td>\n",
       "      <td>3000</td>\n",
       "      <td>0.0</td>\n",
       "      <td>66.0</td>\n",
       "      <td>360.0</td>\n",
       "      <td>1.0</td>\n",
       "      <td>Urban</td>\n",
       "      <td>Y</td>\n",
       "    </tr>\n",
       "    <tr>\n",
       "      <th>3</th>\n",
       "      <td>Male</td>\n",
       "      <td>Yes</td>\n",
       "      <td>0</td>\n",
       "      <td>Not Graduate</td>\n",
       "      <td>No</td>\n",
       "      <td>2583</td>\n",
       "      <td>2358.0</td>\n",
       "      <td>120.0</td>\n",
       "      <td>360.0</td>\n",
       "      <td>1.0</td>\n",
       "      <td>Urban</td>\n",
       "      <td>Y</td>\n",
       "    </tr>\n",
       "    <tr>\n",
       "      <th>4</th>\n",
       "      <td>Male</td>\n",
       "      <td>No</td>\n",
       "      <td>0</td>\n",
       "      <td>Graduate</td>\n",
       "      <td>No</td>\n",
       "      <td>6000</td>\n",
       "      <td>0.0</td>\n",
       "      <td>141.0</td>\n",
       "      <td>360.0</td>\n",
       "      <td>1.0</td>\n",
       "      <td>Urban</td>\n",
       "      <td>Y</td>\n",
       "    </tr>\n",
       "    <tr>\n",
       "      <th>5</th>\n",
       "      <td>Male</td>\n",
       "      <td>Yes</td>\n",
       "      <td>2</td>\n",
       "      <td>Graduate</td>\n",
       "      <td>Yes</td>\n",
       "      <td>5417</td>\n",
       "      <td>4196.0</td>\n",
       "      <td>267.0</td>\n",
       "      <td>360.0</td>\n",
       "      <td>1.0</td>\n",
       "      <td>Urban</td>\n",
       "      <td>Y</td>\n",
       "    </tr>\n",
       "  </tbody>\n",
       "</table>\n",
       "</div>"
      ],
      "text/plain": [
       "  Gender Married Dependents     Education Self_Employed  ApplicantIncome  \\\n",
       "1   Male     Yes          1      Graduate            No             4583   \n",
       "2   Male     Yes          0      Graduate           Yes             3000   \n",
       "3   Male     Yes          0  Not Graduate            No             2583   \n",
       "4   Male      No          0      Graduate            No             6000   \n",
       "5   Male     Yes          2      Graduate           Yes             5417   \n",
       "\n",
       "   CoapplicantIncome  LoanAmount  Loan_Amount_Term  Credit_History  \\\n",
       "1             1508.0       128.0             360.0             1.0   \n",
       "2                0.0        66.0             360.0             1.0   \n",
       "3             2358.0       120.0             360.0             1.0   \n",
       "4                0.0       141.0             360.0             1.0   \n",
       "5             4196.0       267.0             360.0             1.0   \n",
       "\n",
       "  Property_Area Loan_Status  \n",
       "1         Rural           N  \n",
       "2         Urban           Y  \n",
       "3         Urban           Y  \n",
       "4         Urban           Y  \n",
       "5         Urban           Y  "
      ]
     },
     "execution_count": 8,
     "metadata": {},
     "output_type": "execute_result"
    }
   ],
   "source": [
    "\n",
    "df_train_clean=df_train.copy()\n",
    "df_train_clean=df_train_clean.dropna()\n",
    "df_train_clean.drop(['Loan_ID'],inplace=True,axis=1)\n",
    "df_train_clean.head()\n",
    "\n"
   ]
  },
  {
   "cell_type": "code",
   "execution_count": 9,
   "id": "8394f507",
   "metadata": {
    "execution": {
     "iopub.execute_input": "2021-12-07T10:05:01.107827Z",
     "iopub.status.busy": "2021-12-07T10:05:01.107024Z",
     "iopub.status.idle": "2021-12-07T10:05:01.128748Z",
     "shell.execute_reply": "2021-12-07T10:05:01.129749Z",
     "shell.execute_reply.started": "2021-12-07T10:04:33.450959Z"
    },
    "papermill": {
     "duration": 0.047205,
     "end_time": "2021-12-07T10:05:01.130022",
     "exception": false,
     "start_time": "2021-12-07T10:05:01.082817",
     "status": "completed"
    },
    "tags": []
   },
   "outputs": [
    {
     "data": {
      "text/html": [
       "<div>\n",
       "<style scoped>\n",
       "    .dataframe tbody tr th:only-of-type {\n",
       "        vertical-align: middle;\n",
       "    }\n",
       "\n",
       "    .dataframe tbody tr th {\n",
       "        vertical-align: top;\n",
       "    }\n",
       "\n",
       "    .dataframe thead th {\n",
       "        text-align: right;\n",
       "    }\n",
       "</style>\n",
       "<table border=\"1\" class=\"dataframe\">\n",
       "  <thead>\n",
       "    <tr style=\"text-align: right;\">\n",
       "      <th></th>\n",
       "      <th>Gender</th>\n",
       "      <th>Married</th>\n",
       "      <th>Dependents</th>\n",
       "      <th>Education</th>\n",
       "      <th>Self_Employed</th>\n",
       "      <th>ApplicantIncome</th>\n",
       "      <th>CoapplicantIncome</th>\n",
       "      <th>LoanAmount</th>\n",
       "      <th>Loan_Amount_Term</th>\n",
       "      <th>Credit_History</th>\n",
       "      <th>Property_Area</th>\n",
       "      <th>Loan_Status</th>\n",
       "    </tr>\n",
       "  </thead>\n",
       "  <tbody>\n",
       "    <tr>\n",
       "      <th>1</th>\n",
       "      <td>Male</td>\n",
       "      <td>Yes</td>\n",
       "      <td>1</td>\n",
       "      <td>Graduate</td>\n",
       "      <td>No</td>\n",
       "      <td>4583</td>\n",
       "      <td>1508.0</td>\n",
       "      <td>128.0</td>\n",
       "      <td>360.0</td>\n",
       "      <td>1.0</td>\n",
       "      <td>Rural</td>\n",
       "      <td>N</td>\n",
       "    </tr>\n",
       "    <tr>\n",
       "      <th>2</th>\n",
       "      <td>Male</td>\n",
       "      <td>Yes</td>\n",
       "      <td>0</td>\n",
       "      <td>Graduate</td>\n",
       "      <td>Yes</td>\n",
       "      <td>3000</td>\n",
       "      <td>0.0</td>\n",
       "      <td>66.0</td>\n",
       "      <td>360.0</td>\n",
       "      <td>1.0</td>\n",
       "      <td>Urban</td>\n",
       "      <td>Y</td>\n",
       "    </tr>\n",
       "    <tr>\n",
       "      <th>3</th>\n",
       "      <td>Male</td>\n",
       "      <td>Yes</td>\n",
       "      <td>0</td>\n",
       "      <td>Not Graduate</td>\n",
       "      <td>No</td>\n",
       "      <td>2583</td>\n",
       "      <td>2358.0</td>\n",
       "      <td>120.0</td>\n",
       "      <td>360.0</td>\n",
       "      <td>1.0</td>\n",
       "      <td>Urban</td>\n",
       "      <td>Y</td>\n",
       "    </tr>\n",
       "    <tr>\n",
       "      <th>4</th>\n",
       "      <td>Male</td>\n",
       "      <td>No</td>\n",
       "      <td>0</td>\n",
       "      <td>Graduate</td>\n",
       "      <td>No</td>\n",
       "      <td>6000</td>\n",
       "      <td>0.0</td>\n",
       "      <td>141.0</td>\n",
       "      <td>360.0</td>\n",
       "      <td>1.0</td>\n",
       "      <td>Urban</td>\n",
       "      <td>Y</td>\n",
       "    </tr>\n",
       "    <tr>\n",
       "      <th>5</th>\n",
       "      <td>Male</td>\n",
       "      <td>Yes</td>\n",
       "      <td>2</td>\n",
       "      <td>Graduate</td>\n",
       "      <td>Yes</td>\n",
       "      <td>5417</td>\n",
       "      <td>4196.0</td>\n",
       "      <td>267.0</td>\n",
       "      <td>360.0</td>\n",
       "      <td>1.0</td>\n",
       "      <td>Urban</td>\n",
       "      <td>Y</td>\n",
       "    </tr>\n",
       "  </tbody>\n",
       "</table>\n",
       "</div>"
      ],
      "text/plain": [
       "  Gender Married Dependents     Education Self_Employed  ApplicantIncome  \\\n",
       "1   Male     Yes          1      Graduate            No             4583   \n",
       "2   Male     Yes          0      Graduate           Yes             3000   \n",
       "3   Male     Yes          0  Not Graduate            No             2583   \n",
       "4   Male      No          0      Graduate            No             6000   \n",
       "5   Male     Yes          2      Graduate           Yes             5417   \n",
       "\n",
       "   CoapplicantIncome  LoanAmount  Loan_Amount_Term  Credit_History  \\\n",
       "1             1508.0       128.0             360.0             1.0   \n",
       "2                0.0        66.0             360.0             1.0   \n",
       "3             2358.0       120.0             360.0             1.0   \n",
       "4                0.0       141.0             360.0             1.0   \n",
       "5             4196.0       267.0             360.0             1.0   \n",
       "\n",
       "  Property_Area Loan_Status  \n",
       "1         Rural           N  \n",
       "2         Urban           Y  \n",
       "3         Urban           Y  \n",
       "4         Urban           Y  \n",
       "5         Urban           Y  "
      ]
     },
     "execution_count": 9,
     "metadata": {},
     "output_type": "execute_result"
    }
   ],
   "source": [
    "#data preprocessing\n",
    "df_train_num=df_train_clean.copy()\n",
    "Gender= {'Male':0,'Female':1}\n",
    "Married= {'Yes':1,'No':0}\n",
    "Education= {'Graduate':1,'Not Graduate':0}\n",
    "Self_Employed= {'Yes':1,'No':0}\n",
    "Dependents= {'0':0,'1':1,'2':2,'3+':3}\n",
    "Loan_Status= {'Y':1,'N':0}\n",
    "Rural={'Rural':1,'Urban':0,'Semiurban':0}\n",
    "Urban={'Rural':0,'Urban':1,'Semiurban':0}\n",
    "Semiurban={'Rural':0,'Urban':0,'Semiurban':1}\n",
    "df_train_num.head()\n",
    "\n"
   ]
  },
  {
   "cell_type": "code",
   "execution_count": 10,
   "id": "e45d40b2",
   "metadata": {
    "execution": {
     "iopub.execute_input": "2021-12-07T10:05:01.178669Z",
     "iopub.status.busy": "2021-12-07T10:05:01.176744Z",
     "iopub.status.idle": "2021-12-07T10:05:01.193130Z",
     "shell.execute_reply": "2021-12-07T10:05:01.193695Z",
     "shell.execute_reply.started": "2021-12-07T10:04:33.470733Z"
    },
    "papermill": {
     "duration": 0.041468,
     "end_time": "2021-12-07T10:05:01.193894",
     "exception": false,
     "start_time": "2021-12-07T10:05:01.152426",
     "status": "completed"
    },
    "tags": []
   },
   "outputs": [],
   "source": [
    "\n",
    "df_train_num[\"Gender\"]=df_train_num[\"Gender\"].map(Gender)\n",
    "df_train_num[\"Married\"]=df_train_num[\"Married\"].map(Married)\n",
    "df_train_num[\"Education\"]=df_train_num[\"Education\"].map(Education)\n",
    "df_train_num[\"Dependents\"]=df_train_num[\"Dependents\"].map(Dependents)\n",
    "df_train_num[\"Self_Employed\"]=df_train_num[\"Self_Employed\"].map(Self_Employed)\n",
    "df_train_num[\"Loan_Status\"]=df_train_num[\"Loan_Status\"].map(Loan_Status)\n",
    "df_train_num[\"Rural_Area\"]=df_train_num[\"Property_Area\"].map(Rural)\n",
    "df_train_num[\"Urban_Area\"]=df_train_num[\"Property_Area\"].map(Urban)\n",
    "df_train_num[\"Semiurban_Area\"]=df_train_num[\"Property_Area\"].map(Semiurban)"
   ]
  },
  {
   "cell_type": "code",
   "execution_count": 11,
   "id": "b56e74d8",
   "metadata": {
    "execution": {
     "iopub.execute_input": "2021-12-07T10:05:01.240922Z",
     "iopub.status.busy": "2021-12-07T10:05:01.240100Z",
     "iopub.status.idle": "2021-12-07T10:05:01.258665Z",
     "shell.execute_reply": "2021-12-07T10:05:01.259229Z",
     "shell.execute_reply.started": "2021-12-07T10:04:33.508427Z"
    },
    "papermill": {
     "duration": 0.043898,
     "end_time": "2021-12-07T10:05:01.259421",
     "exception": false,
     "start_time": "2021-12-07T10:05:01.215523",
     "status": "completed"
    },
    "tags": []
   },
   "outputs": [
    {
     "data": {
      "text/html": [
       "<div>\n",
       "<style scoped>\n",
       "    .dataframe tbody tr th:only-of-type {\n",
       "        vertical-align: middle;\n",
       "    }\n",
       "\n",
       "    .dataframe tbody tr th {\n",
       "        vertical-align: top;\n",
       "    }\n",
       "\n",
       "    .dataframe thead th {\n",
       "        text-align: right;\n",
       "    }\n",
       "</style>\n",
       "<table border=\"1\" class=\"dataframe\">\n",
       "  <thead>\n",
       "    <tr style=\"text-align: right;\">\n",
       "      <th></th>\n",
       "      <th>Gender</th>\n",
       "      <th>Married</th>\n",
       "      <th>Dependents</th>\n",
       "      <th>Education</th>\n",
       "      <th>Self_Employed</th>\n",
       "      <th>ApplicantIncome</th>\n",
       "      <th>CoapplicantIncome</th>\n",
       "      <th>LoanAmount</th>\n",
       "      <th>Loan_Amount_Term</th>\n",
       "      <th>Credit_History</th>\n",
       "      <th>Loan_Status</th>\n",
       "      <th>Rural_Area</th>\n",
       "      <th>Urban_Area</th>\n",
       "      <th>Semiurban_Area</th>\n",
       "    </tr>\n",
       "  </thead>\n",
       "  <tbody>\n",
       "    <tr>\n",
       "      <th>1</th>\n",
       "      <td>0</td>\n",
       "      <td>1</td>\n",
       "      <td>1</td>\n",
       "      <td>1</td>\n",
       "      <td>0</td>\n",
       "      <td>4583</td>\n",
       "      <td>1508.0</td>\n",
       "      <td>128.0</td>\n",
       "      <td>360.0</td>\n",
       "      <td>1.0</td>\n",
       "      <td>0</td>\n",
       "      <td>1</td>\n",
       "      <td>0</td>\n",
       "      <td>0</td>\n",
       "    </tr>\n",
       "    <tr>\n",
       "      <th>2</th>\n",
       "      <td>0</td>\n",
       "      <td>1</td>\n",
       "      <td>0</td>\n",
       "      <td>1</td>\n",
       "      <td>1</td>\n",
       "      <td>3000</td>\n",
       "      <td>0.0</td>\n",
       "      <td>66.0</td>\n",
       "      <td>360.0</td>\n",
       "      <td>1.0</td>\n",
       "      <td>1</td>\n",
       "      <td>0</td>\n",
       "      <td>1</td>\n",
       "      <td>0</td>\n",
       "    </tr>\n",
       "    <tr>\n",
       "      <th>3</th>\n",
       "      <td>0</td>\n",
       "      <td>1</td>\n",
       "      <td>0</td>\n",
       "      <td>0</td>\n",
       "      <td>0</td>\n",
       "      <td>2583</td>\n",
       "      <td>2358.0</td>\n",
       "      <td>120.0</td>\n",
       "      <td>360.0</td>\n",
       "      <td>1.0</td>\n",
       "      <td>1</td>\n",
       "      <td>0</td>\n",
       "      <td>1</td>\n",
       "      <td>0</td>\n",
       "    </tr>\n",
       "    <tr>\n",
       "      <th>4</th>\n",
       "      <td>0</td>\n",
       "      <td>0</td>\n",
       "      <td>0</td>\n",
       "      <td>1</td>\n",
       "      <td>0</td>\n",
       "      <td>6000</td>\n",
       "      <td>0.0</td>\n",
       "      <td>141.0</td>\n",
       "      <td>360.0</td>\n",
       "      <td>1.0</td>\n",
       "      <td>1</td>\n",
       "      <td>0</td>\n",
       "      <td>1</td>\n",
       "      <td>0</td>\n",
       "    </tr>\n",
       "    <tr>\n",
       "      <th>5</th>\n",
       "      <td>0</td>\n",
       "      <td>1</td>\n",
       "      <td>2</td>\n",
       "      <td>1</td>\n",
       "      <td>1</td>\n",
       "      <td>5417</td>\n",
       "      <td>4196.0</td>\n",
       "      <td>267.0</td>\n",
       "      <td>360.0</td>\n",
       "      <td>1.0</td>\n",
       "      <td>1</td>\n",
       "      <td>0</td>\n",
       "      <td>1</td>\n",
       "      <td>0</td>\n",
       "    </tr>\n",
       "  </tbody>\n",
       "</table>\n",
       "</div>"
      ],
      "text/plain": [
       "   Gender  Married  Dependents  Education  Self_Employed  ApplicantIncome  \\\n",
       "1       0        1           1          1              0             4583   \n",
       "2       0        1           0          1              1             3000   \n",
       "3       0        1           0          0              0             2583   \n",
       "4       0        0           0          1              0             6000   \n",
       "5       0        1           2          1              1             5417   \n",
       "\n",
       "   CoapplicantIncome  LoanAmount  Loan_Amount_Term  Credit_History  \\\n",
       "1             1508.0       128.0             360.0             1.0   \n",
       "2                0.0        66.0             360.0             1.0   \n",
       "3             2358.0       120.0             360.0             1.0   \n",
       "4                0.0       141.0             360.0             1.0   \n",
       "5             4196.0       267.0             360.0             1.0   \n",
       "\n",
       "   Loan_Status  Rural_Area  Urban_Area  Semiurban_Area  \n",
       "1            0           1           0               0  \n",
       "2            1           0           1               0  \n",
       "3            1           0           1               0  \n",
       "4            1           0           1               0  \n",
       "5            1           0           1               0  "
      ]
     },
     "execution_count": 11,
     "metadata": {},
     "output_type": "execute_result"
    }
   ],
   "source": [
    "\n",
    "df_train_num.drop(['Property_Area'],inplace=True,axis=1)\n",
    "df_train_num.head()\n"
   ]
  },
  {
   "cell_type": "code",
   "execution_count": 12,
   "id": "971a1799",
   "metadata": {
    "execution": {
     "iopub.execute_input": "2021-12-07T10:05:01.308362Z",
     "iopub.status.busy": "2021-12-07T10:05:01.307254Z",
     "iopub.status.idle": "2021-12-07T10:05:01.646628Z",
     "shell.execute_reply": "2021-12-07T10:05:01.645949Z",
     "shell.execute_reply.started": "2021-12-07T10:04:33.528765Z"
    },
    "papermill": {
     "duration": 0.365282,
     "end_time": "2021-12-07T10:05:01.646796",
     "exception": false,
     "start_time": "2021-12-07T10:05:01.281514",
     "status": "completed"
    },
    "tags": []
   },
   "outputs": [],
   "source": [
    "#removing the outliers\n",
    "from sklearn.neighbors import LocalOutlierFactor\n",
    "clf = LocalOutlierFactor(n_neighbors = 20, contamination = 0.1)\n",
    "df_out=df_train_num.copy()\n",
    "clf.fit_predict(df_out)\n",
    "df_scores = clf.negative_outlier_factor_\n"
   ]
  },
  {
   "cell_type": "code",
   "execution_count": 13,
   "id": "cbcc97d8",
   "metadata": {
    "execution": {
     "iopub.execute_input": "2021-12-07T10:05:01.698241Z",
     "iopub.status.busy": "2021-12-07T10:05:01.697542Z",
     "iopub.status.idle": "2021-12-07T10:05:01.702077Z",
     "shell.execute_reply": "2021-12-07T10:05:01.702579Z",
     "shell.execute_reply.started": "2021-12-07T10:04:33.543872Z"
    },
    "papermill": {
     "duration": 0.033048,
     "end_time": "2021-12-07T10:05:01.702787",
     "exception": false,
     "start_time": "2021-12-07T10:05:01.669739",
     "status": "completed"
    },
    "tags": []
   },
   "outputs": [
    {
     "data": {
      "text/plain": [
       "array([-11.22591893,  -8.32230236,  -4.75712099,  -4.56216866,\n",
       "        -4.55367476,  -4.47907536,  -4.18837477,  -3.56904465,\n",
       "        -2.75765642,  -2.60124615,  -2.26216346,  -2.22514891,\n",
       "        -2.02190579,  -1.98627875,  -1.94706338,  -1.93963494,\n",
       "        -1.89616038,  -1.87092356,  -1.86434731,  -1.86349143,\n",
       "        -1.83102136,  -1.82526057,  -1.82132537,  -1.82062984,\n",
       "        -1.78487815,  -1.78461196,  -1.765478  ,  -1.72720424,\n",
       "        -1.69705745,  -1.68946714,  -1.65572288,  -1.65325304,\n",
       "        -1.57182699,  -1.54866273,  -1.51906373,  -1.50992701,\n",
       "        -1.49487553,  -1.48667577,  -1.48341691,  -1.48091334,\n",
       "        -1.45377811,  -1.45080441,  -1.44318385,  -1.42401688,\n",
       "        -1.41845973,  -1.41278476,  -1.41187217,  -1.36993499,\n",
       "        -1.36909783,  -1.35909799,  -1.35611965,  -1.35438934,\n",
       "        -1.35027145,  -1.33073276,  -1.32906078,  -1.32669935,\n",
       "        -1.32552234,  -1.30879221,  -1.3085833 ,  -1.30636868,\n",
       "        -1.30616642,  -1.2877531 ,  -1.28599046,  -1.28522081,\n",
       "        -1.28424474,  -1.28162786,  -1.2814778 ,  -1.27332861,\n",
       "        -1.2647478 ,  -1.24547803])"
      ]
     },
     "execution_count": 13,
     "metadata": {},
     "output_type": "execute_result"
    }
   ],
   "source": [
    "np.sort(df_scores)[0:70]\n",
    "\n"
   ]
  },
  {
   "cell_type": "code",
   "execution_count": 14,
   "id": "d66f83d1",
   "metadata": {
    "execution": {
     "iopub.execute_input": "2021-12-07T10:05:01.752682Z",
     "iopub.status.busy": "2021-12-07T10:05:01.751975Z",
     "iopub.status.idle": "2021-12-07T10:05:01.764349Z",
     "shell.execute_reply": "2021-12-07T10:05:01.764874Z",
     "shell.execute_reply.started": "2021-12-07T10:04:33.553921Z"
    },
    "papermill": {
     "duration": 0.039443,
     "end_time": "2021-12-07T10:05:01.765099",
     "exception": false,
     "start_time": "2021-12-07T10:05:01.725656",
     "status": "completed"
    },
    "tags": []
   },
   "outputs": [],
   "source": [
    "\n",
    "threshold = np.sort(df_scores)[14]\n",
    "threshold\n",
    "\n",
    "Outlier_df= df_out[df_scores < threshold]\n",
    "indexs=Outlier_df.index\n",
    "Outlier_df\n",
    "\n",
    "for i in indexs:\n",
    "    df_train_num.drop(i, inplace = True, axis = 0)"
   ]
  },
  {
   "cell_type": "code",
   "execution_count": 15,
   "id": "c3eae1da",
   "metadata": {
    "execution": {
     "iopub.execute_input": "2021-12-07T10:05:01.815175Z",
     "iopub.status.busy": "2021-12-07T10:05:01.814413Z",
     "iopub.status.idle": "2021-12-07T10:05:01.820720Z",
     "shell.execute_reply": "2021-12-07T10:05:01.821244Z",
     "shell.execute_reply.started": "2021-12-07T10:04:33.571426Z"
    },
    "papermill": {
     "duration": 0.033164,
     "end_time": "2021-12-07T10:05:01.821441",
     "exception": false,
     "start_time": "2021-12-07T10:05:01.788277",
     "status": "completed"
    },
    "tags": []
   },
   "outputs": [
    {
     "name": "stdout",
     "output_type": "stream",
     "text": [
      "y shape : (466,)\n",
      "X shape : (466, 13)\n"
     ]
    }
   ],
   "source": [
    "\n",
    "\n",
    "y=df_train_num['Loan_Status']\n",
    "print('y shape :',y.shape)\n",
    "\n",
    "X=df_train_num.drop('Loan_Status',axis=1)\n",
    "print('X shape :',X.shape)"
   ]
  },
  {
   "cell_type": "code",
   "execution_count": 16,
   "id": "0449ddc6",
   "metadata": {
    "execution": {
     "iopub.execute_input": "2021-12-07T10:05:01.879867Z",
     "iopub.status.busy": "2021-12-07T10:05:01.879053Z",
     "iopub.status.idle": "2021-12-07T10:05:01.885815Z",
     "shell.execute_reply": "2021-12-07T10:05:01.885096Z",
     "shell.execute_reply.started": "2021-12-07T10:04:33.586922Z"
    },
    "papermill": {
     "duration": 0.041754,
     "end_time": "2021-12-07T10:05:01.885975",
     "exception": false,
     "start_time": "2021-12-07T10:05:01.844221",
     "status": "completed"
    },
    "tags": []
   },
   "outputs": [],
   "source": [
    "#Normalization\n",
    "X = (X - np.min(X)) / (np.max(X) - np.min(X)).values\n",
    "X.head()\n",
    "\n",
    "\n",
    "from sklearn.metrics import confusion_matrix, accuracy_score, classification_report\n",
    "from sklearn.model_selection import train_test_split\n",
    "X_train,X_test,y_train,y_test=train_test_split(X,y,test_size=0.2,random_state=42)\n",
    "\n"
   ]
  },
  {
   "cell_type": "code",
   "execution_count": 17,
   "id": "0695d6d4",
   "metadata": {
    "execution": {
     "iopub.execute_input": "2021-12-07T10:05:01.947277Z",
     "iopub.status.busy": "2021-12-07T10:05:01.946257Z",
     "iopub.status.idle": "2021-12-07T10:05:02.223253Z",
     "shell.execute_reply": "2021-12-07T10:05:02.222605Z",
     "shell.execute_reply.started": "2021-12-07T10:04:33.605796Z"
    },
    "papermill": {
     "duration": 0.313471,
     "end_time": "2021-12-07T10:05:02.223413",
     "exception": false,
     "start_time": "2021-12-07T10:05:01.909942",
     "status": "completed"
    },
    "tags": []
   },
   "outputs": [
    {
     "data": {
      "text/plain": [
       "<AxesSubplot:>"
      ]
     },
     "execution_count": 17,
     "metadata": {},
     "output_type": "execute_result"
    },
    {
     "data": {
      "image/png": "[encoded data removed]",
      "text/plain": [
       "<Figure size 432x288 with 2 Axes>"
      ]
     },
     "metadata": {
      "needs_background": "light"
     },
     "output_type": "display_data"
    }
   ],
   "source": [
    "#KNN\n",
    "from sklearn.neighbors import KNeighborsClassifier as KNC\n",
    "knn = KNC()\n",
    "knn_model=knn.fit(X_train, y_train)\n",
    "y_pred_knn = knn_model.predict(X_test)\n",
    "accuracy_score(y_test, y_pred_knn)\n",
    "\n",
    "#KNN heatmap\n",
    "cm = confusion_matrix(y_test, y_pred_knn)\n",
    "sns.heatmap(cm, annot=True)\n"
   ]
  },
  {
   "cell_type": "code",
   "execution_count": 18,
   "id": "4025c3f9",
   "metadata": {
    "execution": {
     "iopub.execute_input": "2021-12-07T10:05:02.277012Z",
     "iopub.status.busy": "2021-12-07T10:05:02.276301Z",
     "iopub.status.idle": "2021-12-07T10:05:02.555012Z",
     "shell.execute_reply": "2021-12-07T10:05:02.554395Z",
     "shell.execute_reply.started": "2021-12-07T10:04:33.844342Z"
    },
    "papermill": {
     "duration": 0.307836,
     "end_time": "2021-12-07T10:05:02.555167",
     "exception": false,
     "start_time": "2021-12-07T10:05:02.247331",
     "status": "completed"
    },
    "tags": []
   },
   "outputs": [
    {
     "data": {
      "text/plain": [
       "0.8723404255319149"
      ]
     },
     "execution_count": 18,
     "metadata": {},
     "output_type": "execute_result"
    }
   ],
   "source": [
    "#Random forest\n",
    "from sklearn.ensemble import RandomForestClassifier as rf\n",
    "rf_model = rf().fit(X_train, y_train)\n",
    "y_pred_rf = rf_model.predict(X_test)\n",
    "accuracy_score(y_test, y_pred_rf)\n"
   ]
  },
  {
   "cell_type": "code",
   "execution_count": 19,
   "id": "76b9570a",
   "metadata": {
    "execution": {
     "iopub.execute_input": "2021-12-07T10:05:02.644240Z",
     "iopub.status.busy": "2021-12-07T10:05:02.608903Z",
     "iopub.status.idle": "2021-12-07T10:05:02.854551Z",
     "shell.execute_reply": "2021-12-07T10:05:02.855170Z",
     "shell.execute_reply.started": "2021-12-07T10:04:34.031550Z"
    },
    "papermill": {
     "duration": 0.27643,
     "end_time": "2021-12-07T10:05:02.855361",
     "exception": false,
     "start_time": "2021-12-07T10:05:02.578931",
     "status": "completed"
    },
    "tags": []
   },
   "outputs": [
    {
     "data": {
      "text/plain": [
       "<AxesSubplot:>"
      ]
     },
     "execution_count": 19,
     "metadata": {},
     "output_type": "execute_result"
    },
    {
     "data": {
      "image/png": "[encoded data removed]",
      "text/plain": [
       "<Figure size 432x288 with 2 Axes>"
      ]
     },
     "metadata": {
      "needs_background": "light"
     },
     "output_type": "display_data"
    }
   ],
   "source": [
    "\n",
    "#rf heatmap\n",
    "cm = confusion_matrix(y_test, y_pred_rf)\n",
    "sns.heatmap(cm, annot=True)"
   ]
  },
  {
   "cell_type": "code",
   "execution_count": 20,
   "id": "cd6410bb",
   "metadata": {
    "execution": {
     "iopub.execute_input": "2021-12-07T10:05:02.911190Z",
     "iopub.status.busy": "2021-12-07T10:05:02.910543Z",
     "iopub.status.idle": "2021-12-07T10:05:02.924759Z",
     "shell.execute_reply": "2021-12-07T10:05:02.924051Z",
     "shell.execute_reply.started": "2021-12-07T10:04:34.264219Z"
    },
    "papermill": {
     "duration": 0.042384,
     "end_time": "2021-12-07T10:05:02.924918",
     "exception": false,
     "start_time": "2021-12-07T10:05:02.882534",
     "status": "completed"
    },
    "tags": []
   },
   "outputs": [
    {
     "data": {
      "text/plain": [
       "0.9042553191489362"
      ]
     },
     "execution_count": 20,
     "metadata": {},
     "output_type": "execute_result"
    }
   ],
   "source": [
    "\n",
    "\n",
    "#SVM\n",
    "from sklearn.svm import SVC as svm\n",
    "svm_model = svm(kernel = \"linear\").fit(X_train, y_train)\n",
    "y_pred_svm = svm_model.predict(X_test)\n",
    "accuracy_score(y_test, y_pred_svm)"
   ]
  },
  {
   "cell_type": "code",
   "execution_count": 21,
   "id": "3be74465",
   "metadata": {
    "execution": {
     "iopub.execute_input": "2021-12-07T10:05:02.978726Z",
     "iopub.status.busy": "2021-12-07T10:05:02.978046Z",
     "iopub.status.idle": "2021-12-07T10:05:03.219492Z",
     "shell.execute_reply": "2021-12-07T10:05:03.220038Z",
     "shell.execute_reply.started": "2021-12-07T10:04:34.280460Z"
    },
    "papermill": {
     "duration": 0.270024,
     "end_time": "2021-12-07T10:05:03.220242",
     "exception": false,
     "start_time": "2021-12-07T10:05:02.950218",
     "status": "completed"
    },
    "tags": []
   },
   "outputs": [
    {
     "data": {
      "text/plain": [
       "<AxesSubplot:>"
      ]
     },
     "execution_count": 21,
     "metadata": {},
     "output_type": "execute_result"
    },
    {
     "data": {
      "image/png": "[encoded data removed]",
      "text/plain": [
       "<Figure size 432x288 with 2 Axes>"
      ]
     },
     "metadata": {
      "needs_background": "light"
     },
     "output_type": "display_data"
    }
   ],
   "source": [
    "#SVM heatmap\n",
    "cm = confusion_matrix(y_test, y_pred_svm)\n",
    "sns.heatmap(cm, annot=True)\n"
   ]
  }
 ],
 "metadata": {
  "kernelspec": {
   "display_name": "Python 3",
   "language": "python",
   "name": "python3"
  },
  "language_info": {
   "codemirror_mode": {
    "name": "ipython",
    "version": 3
   },
   "file_extension": ".py",
   "mimetype": "text/x-python",
   "name": "python",
   "nbconvert_exporter": "python",
   "pygments_lexer": "ipython3",
   "version": "3.7.12"
  },
  "papermill": {
   "default_parameters": {},
   "duration": 15.197801,
   "end_time": "2021-12-07T10:05:04.060026",
   "environment_variables": {},
   "exception": null,
   "input_path": "__notebook__.ipynb",
   "output_path": "__notebook__.ipynb",
   "parameters": {},
   "start_time": "2021-12-07T10:04:48.862225",
   "version": "2.3.3"
  }
 },
 "nbformat": 4,
 "nbformat_minor": 5
}
